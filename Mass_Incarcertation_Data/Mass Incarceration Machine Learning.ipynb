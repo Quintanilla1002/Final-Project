{
 "cells": [
  {
   "cell_type": "code",
   "execution_count": 2,
   "metadata": {},
   "outputs": [],
   "source": [
    "#Dependencies\n",
    "%matplotlib inline\n",
    "import matplotlib.pyplot as plt\n",
    "import numpy as np\n",
    "import pandas as pd\n",
    "import datetime\n",
    "import time"
   ]
  },
  {
   "cell_type": "code",
   "execution_count": 3,
   "metadata": {
    "scrolled": false
   },
   "outputs": [
    {
     "data": {
      "text/html": [
       "<div>\n",
       "<style scoped>\n",
       "    .dataframe tbody tr th:only-of-type {\n",
       "        vertical-align: middle;\n",
       "    }\n",
       "\n",
       "    .dataframe tbody tr th {\n",
       "        vertical-align: top;\n",
       "    }\n",
       "\n",
       "    .dataframe thead th {\n",
       "        text-align: right;\n",
       "    }\n",
       "</style>\n",
       "<table border=\"1\" class=\"dataframe\">\n",
       "  <thead>\n",
       "    <tr style=\"text-align: right;\">\n",
       "      <th></th>\n",
       "      <th>Male</th>\n",
       "      <th>Female</th>\n",
       "      <th>Total</th>\n",
       "    </tr>\n",
       "  </thead>\n",
       "  <tbody>\n",
       "    <tr>\n",
       "      <th>1925-01-01</th>\n",
       "      <td>58399000.0</td>\n",
       "      <td>56570000.0</td>\n",
       "      <td>114969000.0</td>\n",
       "    </tr>\n",
       "    <tr>\n",
       "      <th>1926-01-01</th>\n",
       "      <td>59200500.0</td>\n",
       "      <td>57412500.0</td>\n",
       "      <td>116613000.0</td>\n",
       "    </tr>\n",
       "    <tr>\n",
       "      <th>1927-01-01</th>\n",
       "      <td>59992500.0</td>\n",
       "      <td>58223500.0</td>\n",
       "      <td>118216000.0</td>\n",
       "    </tr>\n",
       "    <tr>\n",
       "      <th>1928-01-01</th>\n",
       "      <td>60749000.0</td>\n",
       "      <td>59023000.0</td>\n",
       "      <td>119772000.0</td>\n",
       "    </tr>\n",
       "    <tr>\n",
       "      <th>1929-01-01</th>\n",
       "      <td>61390500.0</td>\n",
       "      <td>59747500.0</td>\n",
       "      <td>121138000.0</td>\n",
       "    </tr>\n",
       "  </tbody>\n",
       "</table>\n",
       "</div>"
      ],
      "text/plain": [
       "                  Male      Female        Total\n",
       "1925-01-01  58399000.0  56570000.0  114969000.0\n",
       "1926-01-01  59200500.0  57412500.0  116613000.0\n",
       "1927-01-01  59992500.0  58223500.0  118216000.0\n",
       "1928-01-01  60749000.0  59023000.0  119772000.0\n",
       "1929-01-01  61390500.0  59747500.0  121138000.0"
      ]
     },
     "execution_count": 3,
     "metadata": {},
     "output_type": "execute_result"
    }
   ],
   "source": [
    "# Read CSV file into DataFrame\n",
    "gender_pop= pd.read_csv('Resources/gender_pop_jan_full.csv')\n",
    "gender_transpose= gender_pop.T\n",
    "gender_transpose.rename(columns=gender_transpose.iloc[0], inplace = True)\n",
    "gender_drop=gender_transpose.drop(gender_transpose.index[0])\n",
    "gender_drop['Male']=gender_drop['Male'].astype(float)\n",
    "gender_drop['Female']=gender_drop['Female'].astype(float)\n",
    "gender_drop['Total']=gender_drop['Total'].astype(float)\n",
    "gender_index=gender_drop.set_index(gender_drop.index.map(lambda x: pd.to_datetime(x, errors='ignore')))\n",
    "gender_index.head()"
   ]
  },
  {
   "cell_type": "code",
   "execution_count": 4,
   "metadata": {},
   "outputs": [
    {
     "data": {
      "image/png": "[encoded data removed]",
      "text/plain": [
       "<Figure size 864x360 with 1 Axes>"
      ]
     },
     "metadata": {
      "needs_background": "light"
     },
     "output_type": "display_data"
    }
   ],
   "source": [
    "#Plot Gender Data\n",
    "male_line=gender_index['Male'].plot(figsize=(12,5), label=\"Male\")\n",
    "female_line=gender_index['Female'].plot(figsize=(12,5), label=\"Female\")\n",
    "plt.xlabel(\"Year\")\n",
    "plt.ylabel(\"Inmate Population in Millions\")\n",
    "plt.legend(loc=\"lower right\")\n",
    "plt.title('Male and Female Population from 1925-2018')\n",
    "plt.savefig(\"Images/Gender_line.png\")\n",
    "plt.show()\n"
   ]
  },
  {
   "cell_type": "code",
   "execution_count": 5,
   "metadata": {},
   "outputs": [],
   "source": [
    "#Run Adfuller test\n",
    "from statsmodels.tsa.stattools import adfuller\n",
    "\n",
    "def ad_test(dataset):\n",
    "    dftest = adfuller(dataset, autolag ='AIC')\n",
    "    print(\"1. ADF: \", dftest[0])\n",
    "    print(\"2. P-value : \", dftest[1])\n",
    "    print(\"3. Num of Lags :\", dftest[2])\n",
    "    print(\"4. Num of Observations Used For ADF Regression and Critical Values Calculation :\", dftest[3])\n",
    "    print(\"5. Critical Values :\")\n",
    "    for key, val in dftest[4].items():\n",
    "        print(\"\\t\", key, \": \", val)"
   ]
  },
  {
   "cell_type": "code",
   "execution_count": 6,
   "metadata": {},
   "outputs": [
    {
     "name": "stdout",
     "output_type": "stream",
     "text": [
      "1. ADF:  0.3884758267904209\n",
      "2. P-value :  0.9810588265100234\n",
      "3. Num of Lags : 2\n",
      "4. Num of Observations Used For ADF Regression and Critical Values Calculation : 91\n",
      "5. Critical Values :\n",
      "\t 1% :  -3.50434289821397\n",
      "\t 5% :  -2.8938659630479413\n",
      "\t 10% :  -2.5840147047458037\n"
     ]
    }
   ],
   "source": [
    "#Adf results male\n",
    "ad_test(gender_index['Male'])"
   ]
  },
  {
   "cell_type": "code",
   "execution_count": 7,
   "metadata": {},
   "outputs": [
    {
     "name": "stdout",
     "output_type": "stream",
     "text": [
      "1. ADF:  -0.18337069358710142\n",
      "2. P-value :  0.9404749760519336\n",
      "3. Num of Lags : 1\n",
      "4. Num of Observations Used For ADF Regression and Critical Values Calculation : 92\n",
      "5. Critical Values :\n",
      "\t 1% :  -3.503514579651927\n",
      "\t 5% :  -2.893507960466837\n",
      "\t 10% :  -2.583823615311909\n"
     ]
    }
   ],
   "source": [
    "#Adf results female\n",
    "ad_test(gender_index['Female'])"
   ]
  },
  {
   "cell_type": "code",
   "execution_count": 8,
   "metadata": {},
   "outputs": [],
   "source": [
    "#Import auto_arima\n",
    "from pmdarima import auto_arima\n",
    "\n",
    "import warnings\n",
    "warnings.filterwarnings(\"ignore\")"
   ]
  },
  {
   "cell_type": "code",
   "execution_count": 9,
   "metadata": {},
   "outputs": [
    {
     "name": "stdout",
     "output_type": "stream",
     "text": [
      "Performing stepwise search to minimize aic\n",
      " ARIMA(2,2,2)(0,0,0)[0]             : AIC=2445.394, Time=0.10 sec\n",
      " ARIMA(0,2,0)(0,0,0)[0]             : AIC=2437.417, Time=0.01 sec\n",
      " ARIMA(1,2,0)(0,0,0)[0]             : AIC=2439.450, Time=0.01 sec\n",
      " ARIMA(0,2,1)(0,0,0)[0]             : AIC=2439.399, Time=0.02 sec\n",
      " ARIMA(1,2,1)(0,0,0)[0]             : AIC=2441.406, Time=0.04 sec\n",
      " ARIMA(0,2,0)(0,0,0)[0] intercept   : AIC=2439.318, Time=0.01 sec\n",
      "\n",
      "Best model:  ARIMA(0,2,0)(0,0,0)[0]          \n",
      "Total fit time: 0.205 seconds\n"
     ]
    },
    {
     "data": {
      "text/html": [
       "<table class=\"simpletable\">\n",
       "<caption>SARIMAX Results</caption>\n",
       "<tr>\n",
       "  <th>Dep. Variable:</th>           <td>y</td>        <th>  No. Observations:  </th>    <td>94</td>    \n",
       "</tr>\n",
       "<tr>\n",
       "  <th>Model:</th>           <td>SARIMAX(0, 2, 0)</td> <th>  Log Likelihood     </th> <td>-1217.709</td>\n",
       "</tr>\n",
       "<tr>\n",
       "  <th>Date:</th>            <td>Fri, 12 Mar 2021</td> <th>  AIC                </th> <td>2437.417</td> \n",
       "</tr>\n",
       "<tr>\n",
       "  <th>Time:</th>                <td>19:25:03</td>     <th>  BIC                </th> <td>2439.939</td> \n",
       "</tr>\n",
       "<tr>\n",
       "  <th>Sample:</th>                  <td>0</td>        <th>  HQIC               </th> <td>2438.435</td> \n",
       "</tr>\n",
       "<tr>\n",
       "  <th></th>                       <td> - 94</td>      <th>                     </th>     <td> </td>    \n",
       "</tr>\n",
       "<tr>\n",
       "  <th>Covariance Type:</th>        <td>opg</td>       <th>                     </th>     <td> </td>    \n",
       "</tr>\n",
       "</table>\n",
       "<table class=\"simpletable\">\n",
       "<tr>\n",
       "     <td></td>       <th>coef</th>     <th>std err</th>      <th>z</th>      <th>P>|z|</th>  <th>[0.025</th>    <th>0.975]</th>  \n",
       "</tr>\n",
       "<tr>\n",
       "  <th>sigma2</th> <td> 1.798e+10</td> <td> 1.14e+09</td> <td>   15.785</td> <td> 0.000</td> <td> 1.57e+10</td> <td> 2.02e+10</td>\n",
       "</tr>\n",
       "</table>\n",
       "<table class=\"simpletable\">\n",
       "<tr>\n",
       "  <th>Ljung-Box (L1) (Q):</th>     <td>4.15</td> <th>  Jarque-Bera (JB):  </th> <td>293.50</td>\n",
       "</tr>\n",
       "<tr>\n",
       "  <th>Prob(Q):</th>                <td>0.04</td> <th>  Prob(JB):          </th>  <td>0.00</td> \n",
       "</tr>\n",
       "<tr>\n",
       "  <th>Heteroskedasticity (H):</th> <td>2.92</td> <th>  Skew:              </th>  <td>1.51</td> \n",
       "</tr>\n",
       "<tr>\n",
       "  <th>Prob(H) (two-sided):</th>    <td>0.00</td> <th>  Kurtosis:          </th>  <td>11.22</td>\n",
       "</tr>\n",
       "</table><br/><br/>Warnings:<br/>[1] Covariance matrix calculated using the outer product of gradients (complex-step)."
      ],
      "text/plain": [
       "<class 'statsmodels.iolib.summary.Summary'>\n",
       "\"\"\"\n",
       "                               SARIMAX Results                                \n",
       "==============================================================================\n",
       "Dep. Variable:                      y   No. Observations:                   94\n",
       "Model:               SARIMAX(0, 2, 0)   Log Likelihood               -1217.709\n",
       "Date:                Fri, 12 Mar 2021   AIC                           2437.417\n",
       "Time:                        19:25:03   BIC                           2439.939\n",
       "Sample:                             0   HQIC                          2438.435\n",
       "                                 - 94                                         \n",
       "Covariance Type:                  opg                                         \n",
       "==============================================================================\n",
       "                 coef    std err          z      P>|z|      [0.025      0.975]\n",
       "------------------------------------------------------------------------------\n",
       "sigma2      1.798e+10   1.14e+09     15.785      0.000    1.57e+10    2.02e+10\n",
       "===================================================================================\n",
       "Ljung-Box (L1) (Q):                   4.15   Jarque-Bera (JB):               293.50\n",
       "Prob(Q):                              0.04   Prob(JB):                         0.00\n",
       "Heteroskedasticity (H):               2.92   Skew:                             1.51\n",
       "Prob(H) (two-sided):                  0.00   Kurtosis:                        11.22\n",
       "===================================================================================\n",
       "\n",
       "Warnings:\n",
       "[1] Covariance matrix calculated using the outer product of gradients (complex-step).\n",
       "\"\"\""
      ]
     },
     "execution_count": 9,
     "metadata": {},
     "output_type": "execute_result"
    }
   ],
   "source": [
    "#Fit male with auto_arima\n",
    "male_fit= auto_arima(gender_index['Male'], trace=True,\n",
    "                            suppress_warnings=True)\n",
    "male_fit.summary()"
   ]
  },
  {
   "cell_type": "code",
   "execution_count": 10,
   "metadata": {},
   "outputs": [
    {
     "name": "stdout",
     "output_type": "stream",
     "text": [
      "Performing stepwise search to minimize aic\n",
      " ARIMA(2,2,2)(0,0,0)[0]             : AIC=2373.849, Time=0.05 sec\n",
      " ARIMA(0,2,0)(0,0,0)[0]             : AIC=2365.936, Time=0.00 sec\n",
      " ARIMA(1,2,0)(0,0,0)[0]             : AIC=2367.785, Time=0.01 sec\n",
      " ARIMA(0,2,1)(0,0,0)[0]             : AIC=2367.811, Time=0.03 sec\n",
      " ARIMA(1,2,1)(0,0,0)[0]             : AIC=2368.567, Time=0.04 sec\n",
      " ARIMA(0,2,0)(0,0,0)[0] intercept   : AIC=2367.793, Time=0.01 sec\n",
      "\n",
      "Best model:  ARIMA(0,2,0)(0,0,0)[0]          \n",
      "Total fit time: 0.141 seconds\n"
     ]
    },
    {
     "data": {
      "text/html": [
       "<table class=\"simpletable\">\n",
       "<caption>SARIMAX Results</caption>\n",
       "<tr>\n",
       "  <th>Dep. Variable:</th>           <td>y</td>        <th>  No. Observations:  </th>    <td>94</td>    \n",
       "</tr>\n",
       "<tr>\n",
       "  <th>Model:</th>           <td>SARIMAX(0, 2, 0)</td> <th>  Log Likelihood     </th> <td>-1181.968</td>\n",
       "</tr>\n",
       "<tr>\n",
       "  <th>Date:</th>            <td>Fri, 12 Mar 2021</td> <th>  AIC                </th> <td>2365.936</td> \n",
       "</tr>\n",
       "<tr>\n",
       "  <th>Time:</th>                <td>19:25:03</td>     <th>  BIC                </th> <td>2368.458</td> \n",
       "</tr>\n",
       "<tr>\n",
       "  <th>Sample:</th>                  <td>0</td>        <th>  HQIC               </th> <td>2366.954</td> \n",
       "</tr>\n",
       "<tr>\n",
       "  <th></th>                       <td> - 94</td>      <th>                     </th>     <td> </td>    \n",
       "</tr>\n",
       "<tr>\n",
       "  <th>Covariance Type:</th>        <td>opg</td>       <th>                     </th>     <td> </td>    \n",
       "</tr>\n",
       "</table>\n",
       "<table class=\"simpletable\">\n",
       "<tr>\n",
       "     <td></td>       <th>coef</th>     <th>std err</th>      <th>z</th>      <th>P>|z|</th>  <th>[0.025</th>    <th>0.975]</th>  \n",
       "</tr>\n",
       "<tr>\n",
       "  <th>sigma2</th> <td> 8.265e+09</td> <td> 6.52e+08</td> <td>   12.677</td> <td> 0.000</td> <td> 6.99e+09</td> <td> 9.54e+09</td>\n",
       "</tr>\n",
       "</table>\n",
       "<table class=\"simpletable\">\n",
       "<tr>\n",
       "  <th>Ljung-Box (L1) (Q):</th>     <td>1.51</td> <th>  Jarque-Bera (JB):  </th> <td>111.42</td>\n",
       "</tr>\n",
       "<tr>\n",
       "  <th>Prob(Q):</th>                <td>0.22</td> <th>  Prob(JB):          </th>  <td>0.00</td> \n",
       "</tr>\n",
       "<tr>\n",
       "  <th>Heteroskedasticity (H):</th> <td>1.81</td> <th>  Skew:              </th>  <td>1.49</td> \n",
       "</tr>\n",
       "<tr>\n",
       "  <th>Prob(H) (two-sided):</th>    <td>0.10</td> <th>  Kurtosis:          </th>  <td>7.49</td> \n",
       "</tr>\n",
       "</table><br/><br/>Warnings:<br/>[1] Covariance matrix calculated using the outer product of gradients (complex-step)."
      ],
      "text/plain": [
       "<class 'statsmodels.iolib.summary.Summary'>\n",
       "\"\"\"\n",
       "                               SARIMAX Results                                \n",
       "==============================================================================\n",
       "Dep. Variable:                      y   No. Observations:                   94\n",
       "Model:               SARIMAX(0, 2, 0)   Log Likelihood               -1181.968\n",
       "Date:                Fri, 12 Mar 2021   AIC                           2365.936\n",
       "Time:                        19:25:03   BIC                           2368.458\n",
       "Sample:                             0   HQIC                          2366.954\n",
       "                                 - 94                                         \n",
       "Covariance Type:                  opg                                         \n",
       "==============================================================================\n",
       "                 coef    std err          z      P>|z|      [0.025      0.975]\n",
       "------------------------------------------------------------------------------\n",
       "sigma2      8.265e+09   6.52e+08     12.677      0.000    6.99e+09    9.54e+09\n",
       "===================================================================================\n",
       "Ljung-Box (L1) (Q):                   1.51   Jarque-Bera (JB):               111.42\n",
       "Prob(Q):                              0.22   Prob(JB):                         0.00\n",
       "Heteroskedasticity (H):               1.81   Skew:                             1.49\n",
       "Prob(H) (two-sided):                  0.10   Kurtosis:                         7.49\n",
       "===================================================================================\n",
       "\n",
       "Warnings:\n",
       "[1] Covariance matrix calculated using the outer product of gradients (complex-step).\n",
       "\"\"\""
      ]
     },
     "execution_count": 10,
     "metadata": {},
     "output_type": "execute_result"
    }
   ],
   "source": [
    "#Fit female with auto_arima\n",
    "female_fit= auto_arima(gender_index['Female'], trace=True,\n",
    "                            suppress_warnings=True)\n",
    "female_fit.summary()"
   ]
  },
  {
   "cell_type": "code",
   "execution_count": 11,
   "metadata": {},
   "outputs": [],
   "source": [
    "#Import ARIMA from statsmodels\n",
    "from statsmodels.tsa.arima_model import ARIMA"
   ]
  },
  {
   "cell_type": "code",
   "execution_count": 12,
   "metadata": {},
   "outputs": [
    {
     "name": "stdout",
     "output_type": "stream",
     "text": [
      "(94, 3)\n",
      "(94, 3) (30, 3)\n"
     ]
    },
    {
     "data": {
      "text/html": [
       "<div>\n",
       "<style scoped>\n",
       "    .dataframe tbody tr th:only-of-type {\n",
       "        vertical-align: middle;\n",
       "    }\n",
       "\n",
       "    .dataframe tbody tr th {\n",
       "        vertical-align: top;\n",
       "    }\n",
       "\n",
       "    .dataframe thead th {\n",
       "        text-align: right;\n",
       "    }\n",
       "</style>\n",
       "<table border=\"1\" class=\"dataframe\">\n",
       "  <thead>\n",
       "    <tr style=\"text-align: right;\">\n",
       "      <th></th>\n",
       "      <th>Male</th>\n",
       "      <th>Female</th>\n",
       "      <th>Total</th>\n",
       "    </tr>\n",
       "  </thead>\n",
       "  <tbody>\n",
       "    <tr>\n",
       "      <th>1925-01-01</th>\n",
       "      <td>58398970.0</td>\n",
       "      <td>56569970.0</td>\n",
       "      <td>114968970.0</td>\n",
       "    </tr>\n",
       "    <tr>\n",
       "      <th>1926-01-01</th>\n",
       "      <td>59200470.0</td>\n",
       "      <td>57412470.0</td>\n",
       "      <td>116612970.0</td>\n",
       "    </tr>\n",
       "    <tr>\n",
       "      <th>1927-01-01</th>\n",
       "      <td>59992470.0</td>\n",
       "      <td>58223470.0</td>\n",
       "      <td>118215970.0</td>\n",
       "    </tr>\n",
       "    <tr>\n",
       "      <th>1928-01-01</th>\n",
       "      <td>60748970.0</td>\n",
       "      <td>59022970.0</td>\n",
       "      <td>119771970.0</td>\n",
       "    </tr>\n",
       "    <tr>\n",
       "      <th>1929-01-01</th>\n",
       "      <td>61390470.0</td>\n",
       "      <td>59747470.0</td>\n",
       "      <td>121137970.0</td>\n",
       "    </tr>\n",
       "    <tr>\n",
       "      <th>...</th>\n",
       "      <td>...</td>\n",
       "      <td>...</td>\n",
       "      <td>...</td>\n",
       "    </tr>\n",
       "    <tr>\n",
       "      <th>2014-01-01</th>\n",
       "      <td>156254525.0</td>\n",
       "      <td>161270046.0</td>\n",
       "      <td>317524601.0</td>\n",
       "    </tr>\n",
       "    <tr>\n",
       "      <th>2015-01-01</th>\n",
       "      <td>157494909.0</td>\n",
       "      <td>162463076.0</td>\n",
       "      <td>319958015.0</td>\n",
       "    </tr>\n",
       "    <tr>\n",
       "      <th>2016-01-01</th>\n",
       "      <td>158894817.0</td>\n",
       "      <td>163666430.0</td>\n",
       "      <td>322311278.0</td>\n",
       "    </tr>\n",
       "    <tr>\n",
       "      <th>2017-01-01</th>\n",
       "      <td>159873920.0</td>\n",
       "      <td>164782989.0</td>\n",
       "      <td>324656939.0</td>\n",
       "    </tr>\n",
       "    <tr>\n",
       "      <th>2018-01-01</th>\n",
       "      <td>161038188.0</td>\n",
       "      <td>165932961.0</td>\n",
       "      <td>326971179.0</td>\n",
       "    </tr>\n",
       "  </tbody>\n",
       "</table>\n",
       "<p>94 rows × 3 columns</p>\n",
       "</div>"
      ],
      "text/plain": [
       "                   Male       Female        Total\n",
       "1925-01-01   58398970.0   56569970.0  114968970.0\n",
       "1926-01-01   59200470.0   57412470.0  116612970.0\n",
       "1927-01-01   59992470.0   58223470.0  118215970.0\n",
       "1928-01-01   60748970.0   59022970.0  119771970.0\n",
       "1929-01-01   61390470.0   59747470.0  121137970.0\n",
       "...                 ...          ...          ...\n",
       "2014-01-01  156254525.0  161270046.0  317524601.0\n",
       "2015-01-01  157494909.0  162463076.0  319958015.0\n",
       "2016-01-01  158894817.0  163666430.0  322311278.0\n",
       "2017-01-01  159873920.0  164782989.0  324656939.0\n",
       "2018-01-01  161038188.0  165932961.0  326971179.0\n",
       "\n",
       "[94 rows x 3 columns]"
      ]
     },
     "execution_count": 12,
     "metadata": {},
     "output_type": "execute_result"
    }
   ],
   "source": [
    "#Get train test split\n",
    "print(gender_index.shape)\n",
    "train=gender_index.iloc[:]-30\n",
    "test=gender_index.iloc[-30:]\n",
    "print(train.shape, test.shape)\n",
    "train"
   ]
  },
  {
   "cell_type": "code",
   "execution_count": 13,
   "metadata": {},
   "outputs": [
    {
     "data": {
      "text/html": [
       "<table class=\"simpletable\">\n",
       "<caption>ARIMA Model Results</caption>\n",
       "<tr>\n",
       "  <th>Dep. Variable:</th>     <td>D2.Female</td>    <th>  No. Observations:  </th>    <td>92</td>    \n",
       "</tr>\n",
       "<tr>\n",
       "  <th>Model:</th>          <td>ARIMA(0, 2, 0)</td>  <th>  Log Likelihood     </th> <td>-1181.896</td>\n",
       "</tr>\n",
       "<tr>\n",
       "  <th>Method:</th>               <td>css</td>       <th>  S.D. of innovations</th> <td>91836.202</td>\n",
       "</tr>\n",
       "<tr>\n",
       "  <th>Date:</th>          <td>Fri, 12 Mar 2021</td> <th>  AIC                </th> <td>2367.793</td> \n",
       "</tr>\n",
       "<tr>\n",
       "  <th>Time:</th>              <td>19:25:05</td>     <th>  BIC                </th> <td>2372.836</td> \n",
       "</tr>\n",
       "<tr>\n",
       "  <th>Sample:</th>           <td>01-01-1927</td>    <th>  HQIC               </th> <td>2369.829</td> \n",
       "</tr>\n",
       "<tr>\n",
       "  <th></th>                 <td>- 01-01-2018</td>   <th>                     </th>     <td> </td>    \n",
       "</tr>\n",
       "</table>\n",
       "<table class=\"simpletable\">\n",
       "<tr>\n",
       "    <td></td>       <th>coef</th>     <th>std err</th>      <th>z</th>      <th>P>|z|</th>  <th>[0.025</th>    <th>0.975]</th>  \n",
       "</tr>\n",
       "<tr>\n",
       "  <th>const</th> <td> 3342.0870</td> <td> 9574.586</td> <td>    0.349</td> <td> 0.727</td> <td>-1.54e+04</td> <td> 2.21e+04</td>\n",
       "</tr>\n",
       "</table>"
      ],
      "text/plain": [
       "<class 'statsmodels.iolib.summary.Summary'>\n",
       "\"\"\"\n",
       "                             ARIMA Model Results                              \n",
       "==============================================================================\n",
       "Dep. Variable:              D2.Female   No. Observations:                   92\n",
       "Model:                 ARIMA(0, 2, 0)   Log Likelihood               -1181.896\n",
       "Method:                           css   S.D. of innovations          91836.202\n",
       "Date:                Fri, 12 Mar 2021   AIC                           2367.793\n",
       "Time:                        19:25:05   BIC                           2372.836\n",
       "Sample:                    01-01-1927   HQIC                          2369.829\n",
       "                         - 01-01-2018                                         \n",
       "==============================================================================\n",
       "                 coef    std err          z      P>|z|      [0.025      0.975]\n",
       "------------------------------------------------------------------------------\n",
       "const       3342.0870   9574.586      0.349      0.727   -1.54e+04    2.21e+04\n",
       "==============================================================================\n",
       "\"\"\""
      ]
     },
     "execution_count": 13,
     "metadata": {},
     "output_type": "execute_result"
    }
   ],
   "source": [
    "#Arima female fit\n",
    "model=ARIMA(train['Female'], order = (0,2,0))\n",
    "female_model = model.fit()\n",
    "female_model.summary()"
   ]
  },
  {
   "cell_type": "code",
   "execution_count": 14,
   "metadata": {},
   "outputs": [
    {
     "data": {
      "text/html": [
       "<table class=\"simpletable\">\n",
       "<caption>ARIMA Model Results</caption>\n",
       "<tr>\n",
       "  <th>Dep. Variable:</th>      <td>D2.Male</td>     <th>  No. Observations:  </th>     <td>92</td>    \n",
       "</tr>\n",
       "<tr>\n",
       "  <th>Model:</th>          <td>ARIMA(0, 2, 0)</td>  <th>  Log Likelihood     </th>  <td>-1217.659</td>\n",
       "</tr>\n",
       "<tr>\n",
       "  <th>Method:</th>               <td>css</td>       <th>  S.D. of innovations</th> <td>135467.126</td>\n",
       "</tr>\n",
       "<tr>\n",
       "  <th>Date:</th>          <td>Fri, 12 Mar 2021</td> <th>  AIC                </th>  <td>2439.318</td> \n",
       "</tr>\n",
       "<tr>\n",
       "  <th>Time:</th>              <td>19:25:06</td>     <th>  BIC                </th>  <td>2444.361</td> \n",
       "</tr>\n",
       "<tr>\n",
       "  <th>Sample:</th>           <td>01-01-1927</td>    <th>  HQIC               </th>  <td>2441.353</td> \n",
       "</tr>\n",
       "<tr>\n",
       "  <th></th>                 <td>- 01-01-2018</td>   <th>                     </th>      <td> </td>    \n",
       "</tr>\n",
       "</table>\n",
       "<table class=\"simpletable\">\n",
       "<tr>\n",
       "    <td></td>       <th>coef</th>     <th>std err</th>      <th>z</th>      <th>P>|z|</th>  <th>[0.025</th>    <th>0.975]</th>  \n",
       "</tr>\n",
       "<tr>\n",
       "  <th>const</th> <td> 3943.1304</td> <td> 1.41e+04</td> <td>    0.279</td> <td> 0.780</td> <td>-2.37e+04</td> <td> 3.16e+04</td>\n",
       "</tr>\n",
       "</table>"
      ],
      "text/plain": [
       "<class 'statsmodels.iolib.summary.Summary'>\n",
       "\"\"\"\n",
       "                             ARIMA Model Results                              \n",
       "==============================================================================\n",
       "Dep. Variable:                D2.Male   No. Observations:                   92\n",
       "Model:                 ARIMA(0, 2, 0)   Log Likelihood               -1217.659\n",
       "Method:                           css   S.D. of innovations         135467.126\n",
       "Date:                Fri, 12 Mar 2021   AIC                           2439.318\n",
       "Time:                        19:25:06   BIC                           2444.361\n",
       "Sample:                    01-01-1927   HQIC                          2441.353\n",
       "                         - 01-01-2018                                         \n",
       "==============================================================================\n",
       "                 coef    std err          z      P>|z|      [0.025      0.975]\n",
       "------------------------------------------------------------------------------\n",
       "const       3943.1304   1.41e+04      0.279      0.780   -2.37e+04    3.16e+04\n",
       "==============================================================================\n",
       "\"\"\""
      ]
     },
     "execution_count": 14,
     "metadata": {},
     "output_type": "execute_result"
    }
   ],
   "source": [
    "#Arima male fit\n",
    "model=ARIMA(train['Male'], order = (0,2,0))\n",
    "male_model = model.fit()\n",
    "male_model.summary()\n"
   ]
  },
  {
   "cell_type": "code",
   "execution_count": 15,
   "metadata": {},
   "outputs": [
    {
     "name": "stdout",
     "output_type": "stream",
     "text": [
      "2019-01-01    1.670863e+08\n",
      "2020-01-01    1.682429e+08\n",
      "2021-01-01    1.694029e+08\n",
      "2022-01-01    1.705663e+08\n",
      "2023-01-01    1.717330e+08\n",
      "2024-01-01    1.729030e+08\n",
      "2025-01-01    1.740763e+08\n",
      "2026-01-01    1.752531e+08\n",
      "2027-01-01    1.764331e+08\n",
      "2028-01-01    1.776165e+08\n",
      "2029-01-01    1.788032e+08\n",
      "2030-01-01    1.799933e+08\n",
      "2031-01-01    1.811867e+08\n",
      "2032-01-01    1.823835e+08\n",
      "2033-01-01    1.835836e+08\n",
      "2034-01-01    1.847870e+08\n",
      "2035-01-01    1.859938e+08\n",
      "2036-01-01    1.872040e+08\n",
      "2037-01-01    1.884174e+08\n",
      "2038-01-01    1.896342e+08\n",
      "2039-01-01    1.908544e+08\n",
      "2040-01-01    1.920779e+08\n",
      "2041-01-01    1.933047e+08\n",
      "2042-01-01    1.945349e+08\n",
      "2043-01-01    1.957684e+08\n",
      "2044-01-01    1.970053e+08\n",
      "2045-01-01    1.982455e+08\n",
      "2046-01-01    1.994891e+08\n",
      "2047-01-01    2.007360e+08\n",
      "2048-01-01    2.019862e+08\n",
      "Freq: AS-JAN, dtype: float64\n"
     ]
    }
   ],
   "source": [
    "#Get female predictions\n",
    "start=len(train)\n",
    "end=len(train)+len(test)-1\n",
    "female_pred=female_model.predict(start=start, end=end, typ='levels')\n",
    "print(female_pred)"
   ]
  },
  {
   "cell_type": "code",
   "execution_count": 16,
   "metadata": {},
   "outputs": [
    {
     "name": "stdout",
     "output_type": "stream",
     "text": [
      "2019-01-01    1.622064e+08\n",
      "2020-01-01    1.633786e+08\n",
      "2021-01-01    1.645547e+08\n",
      "2022-01-01    1.657347e+08\n",
      "2023-01-01    1.669187e+08\n",
      "2024-01-01    1.681066e+08\n",
      "2025-01-01    1.692985e+08\n",
      "2026-01-01    1.704943e+08\n",
      "2027-01-01    1.716940e+08\n",
      "2028-01-01    1.728977e+08\n",
      "2029-01-01    1.741054e+08\n",
      "2030-01-01    1.753170e+08\n",
      "2031-01-01    1.765325e+08\n",
      "2032-01-01    1.777520e+08\n",
      "2033-01-01    1.789754e+08\n",
      "2034-01-01    1.802027e+08\n",
      "2035-01-01    1.814340e+08\n",
      "2036-01-01    1.826693e+08\n",
      "2037-01-01    1.839085e+08\n",
      "2038-01-01    1.851516e+08\n",
      "2039-01-01    1.863987e+08\n",
      "2040-01-01    1.876497e+08\n",
      "2041-01-01    1.889047e+08\n",
      "2042-01-01    1.901636e+08\n",
      "2043-01-01    1.914264e+08\n",
      "2044-01-01    1.926932e+08\n",
      "2045-01-01    1.939639e+08\n",
      "2046-01-01    1.952386e+08\n",
      "2047-01-01    1.965172e+08\n",
      "2048-01-01    1.977998e+08\n",
      "Freq: AS-JAN, dtype: float64\n"
     ]
    }
   ],
   "source": [
    "#Get male predictions\n",
    "start=len(train)\n",
    "end=len(train)+len(test)-1\n",
    "male_pred=male_model.predict(start=start, end=end, typ='levels')\n",
    "print(male_pred)"
   ]
  },
  {
   "cell_type": "code",
   "execution_count": 18,
   "metadata": {},
   "outputs": [
    {
     "data": {
      "image/png": "[encoded data removed]",
      "text/plain": [
       "<Figure size 432x288 with 1 Axes>"
      ]
     },
     "metadata": {
      "needs_background": "light"
     },
     "output_type": "display_data"
    }
   ],
   "source": [
    "#Plot female and male predictions vs train models\n",
    "female_pred.plot(legend=True, label=\"Female Prediction\")\n",
    "train['Female'].plot(legend=True)\n",
    "male_pred.plot(legend=True, label=\"Female Prediction\")\n",
    "train['Male'].plot(legend=True)\n",
    "plt.xlabel(\"Year\")\n",
    "plt.ylabel(\"Population in Millions\")\n",
    "plt.title('Population Data with Future predictions')\n",
    "plt.savefig(\"Images/Gender_Prediction.png\")\n",
    "plt.show()\n"
   ]
  },
  {
   "cell_type": "code",
   "execution_count": 100,
   "metadata": {},
   "outputs": [
    {
     "name": "stdout",
     "output_type": "stream",
     "text": [
      "37240336.83784475\n"
     ]
    }
   ],
   "source": [
    "#Get RMSE for female data\n",
    "from sklearn.metrics import mean_squared_error\n",
    "from math import sqrt\n",
    "female_rmse=sqrt(mean_squared_error(female_pred, test['Female']))\n",
    "print(female_rmse)"
   ]
  },
  {
   "cell_type": "code",
   "execution_count": 101,
   "metadata": {},
   "outputs": [
    {
     "name": "stdout",
     "output_type": "stream",
     "text": [
      "38089045.77685552\n"
     ]
    }
   ],
   "source": [
    "#Get RMSE for male data\n",
    "from sklearn.metrics import mean_squared_error\n",
    "from math import sqrt\n",
    "male_rmse=sqrt(mean_squared_error(male_pred, test['Male']))\n",
    "print(male_rmse)"
   ]
  },
  {
   "cell_type": "code",
   "execution_count": 20,
   "metadata": {},
   "outputs": [
    {
     "data": {
      "text/html": [
       "<div>\n",
       "<style scoped>\n",
       "    .dataframe tbody tr th:only-of-type {\n",
       "        vertical-align: middle;\n",
       "    }\n",
       "\n",
       "    .dataframe tbody tr th {\n",
       "        vertical-align: top;\n",
       "    }\n",
       "\n",
       "    .dataframe thead th {\n",
       "        text-align: right;\n",
       "    }\n",
       "</style>\n",
       "<table border=\"1\" class=\"dataframe\">\n",
       "  <thead>\n",
       "    <tr style=\"text-align: right;\">\n",
       "      <th></th>\n",
       "      <th>Male</th>\n",
       "      <th>Female</th>\n",
       "      <th>Total</th>\n",
       "    </tr>\n",
       "  </thead>\n",
       "  <tbody>\n",
       "    <tr>\n",
       "      <th>2014-01-01</th>\n",
       "      <td>156254555.0</td>\n",
       "      <td>161270076.0</td>\n",
       "      <td>317524631.0</td>\n",
       "    </tr>\n",
       "    <tr>\n",
       "      <th>2015-01-01</th>\n",
       "      <td>157494939.0</td>\n",
       "      <td>162463106.0</td>\n",
       "      <td>319958045.0</td>\n",
       "    </tr>\n",
       "    <tr>\n",
       "      <th>2016-01-01</th>\n",
       "      <td>158894847.0</td>\n",
       "      <td>163666460.0</td>\n",
       "      <td>322311308.0</td>\n",
       "    </tr>\n",
       "    <tr>\n",
       "      <th>2017-01-01</th>\n",
       "      <td>159873950.0</td>\n",
       "      <td>164783019.0</td>\n",
       "      <td>324656969.0</td>\n",
       "    </tr>\n",
       "    <tr>\n",
       "      <th>2018-01-01</th>\n",
       "      <td>161038218.0</td>\n",
       "      <td>165932991.0</td>\n",
       "      <td>326971209.0</td>\n",
       "    </tr>\n",
       "  </tbody>\n",
       "</table>\n",
       "</div>"
      ],
      "text/plain": [
       "                   Male       Female        Total\n",
       "2014-01-01  156254555.0  161270076.0  317524631.0\n",
       "2015-01-01  157494939.0  162463106.0  319958045.0\n",
       "2016-01-01  158894847.0  163666460.0  322311308.0\n",
       "2017-01-01  159873950.0  164783019.0  324656969.0\n",
       "2018-01-01  161038218.0  165932991.0  326971209.0"
      ]
     },
     "execution_count": 20,
     "metadata": {},
     "output_type": "execute_result"
    }
   ],
   "source": [
    "#Begin future predicitions for female data\n",
    "female2=ARIMA(gender_index['Female'], order=(0,2,0))\n",
    "female2=female2.fit()\n",
    "gender_index.tail()"
   ]
  },
  {
   "cell_type": "code",
   "execution_count": 21,
   "metadata": {},
   "outputs": [
    {
     "data": {
      "text/html": [
       "<div>\n",
       "<style scoped>\n",
       "    .dataframe tbody tr th:only-of-type {\n",
       "        vertical-align: middle;\n",
       "    }\n",
       "\n",
       "    .dataframe tbody tr th {\n",
       "        vertical-align: top;\n",
       "    }\n",
       "\n",
       "    .dataframe thead th {\n",
       "        text-align: right;\n",
       "    }\n",
       "</style>\n",
       "<table border=\"1\" class=\"dataframe\">\n",
       "  <thead>\n",
       "    <tr style=\"text-align: right;\">\n",
       "      <th></th>\n",
       "      <th>Male</th>\n",
       "      <th>Female</th>\n",
       "      <th>Total</th>\n",
       "    </tr>\n",
       "  </thead>\n",
       "  <tbody>\n",
       "    <tr>\n",
       "      <th>2014-01-01</th>\n",
       "      <td>156254555.0</td>\n",
       "      <td>161270076.0</td>\n",
       "      <td>317524631.0</td>\n",
       "    </tr>\n",
       "    <tr>\n",
       "      <th>2015-01-01</th>\n",
       "      <td>157494939.0</td>\n",
       "      <td>162463106.0</td>\n",
       "      <td>319958045.0</td>\n",
       "    </tr>\n",
       "    <tr>\n",
       "      <th>2016-01-01</th>\n",
       "      <td>158894847.0</td>\n",
       "      <td>163666460.0</td>\n",
       "      <td>322311308.0</td>\n",
       "    </tr>\n",
       "    <tr>\n",
       "      <th>2017-01-01</th>\n",
       "      <td>159873950.0</td>\n",
       "      <td>164783019.0</td>\n",
       "      <td>324656969.0</td>\n",
       "    </tr>\n",
       "    <tr>\n",
       "      <th>2018-01-01</th>\n",
       "      <td>161038218.0</td>\n",
       "      <td>165932991.0</td>\n",
       "      <td>326971209.0</td>\n",
       "    </tr>\n",
       "  </tbody>\n",
       "</table>\n",
       "</div>"
      ],
      "text/plain": [
       "                   Male       Female        Total\n",
       "2014-01-01  156254555.0  161270076.0  317524631.0\n",
       "2015-01-01  157494939.0  162463106.0  319958045.0\n",
       "2016-01-01  158894847.0  163666460.0  322311308.0\n",
       "2017-01-01  159873950.0  164783019.0  324656969.0\n",
       "2018-01-01  161038218.0  165932991.0  326971209.0"
      ]
     },
     "execution_count": 21,
     "metadata": {},
     "output_type": "execute_result"
    }
   ],
   "source": [
    "#Begin future predicitions for male data\n",
    "male2=ARIMA(gender_index['Male'], order=(0,2,0))\n",
    "male2=male2.fit()\n",
    "gender_index.tail()"
   ]
  },
  {
   "cell_type": "code",
   "execution_count": 22,
   "metadata": {},
   "outputs": [],
   "source": [
    "#Add future dates for prediction\n",
    "future_female=pd.date_range(start='2018-01-01', end = '2018-04-01')\n",
    "fem_pred=female2.predict(start=len(gender_index), end=len(gender_index)+90, typ='levels').rename('Female ARIMA Predictions')\n",
    "fem_pred.index=future_female\n",
    "\n",
    "future_male=pd.date_range(start='2018-01-01', end = '2018-04-01')\n",
    "male_pred=male2.predict(start=len(gender_index), end=len(gender_index)+90, typ='levels').rename('Male ARIMA Predictions')\n",
    "male_pred.index=future_female"
   ]
  },
  {
   "cell_type": "code",
   "execution_count": 23,
   "metadata": {},
   "outputs": [
    {
     "data": {
      "image/png": "[encoded data removed]",
      "text/plain": [
       "<Figure size 864x360 with 1 Axes>"
      ]
     },
     "metadata": {
      "needs_background": "light"
     },
     "output_type": "display_data"
    }
   ],
   "source": [
    "fem_pred.plot(figsize=(12,5), legend=True)\n",
    "male_pred.plot(figsize=(12,5), legend=True)\n",
    "plt.xlabel(\"Month\")\n",
    "plt.ylabel(\"Inmate Population in Millions\")\n",
    "plt.title('Male and Female Population')\n",
    "plt.savefig(\"Images/2018_quarter.png\")\n",
    "plt.show()\n"
   ]
  },
  {
   "cell_type": "code",
   "execution_count": null,
   "metadata": {},
   "outputs": [],
   "source": []
  }
 ],
 "metadata": {
  "kernelspec": {
   "display_name": "Python [conda env:PythonData] *",
   "language": "python",
   "name": "conda-env-PythonData-py"
  },
  "language_info": {
   "codemirror_mode": {
    "name": "ipython",
    "version": 3
   },
   "file_extension": ".py",
   "mimetype": "text/x-python",
   "name": "python",
   "nbconvert_exporter": "python",
   "pygments_lexer": "ipython3",
   "version": "3.7.1"
  }
 },
 "nbformat": 4,
 "nbformat_minor": 4
}
